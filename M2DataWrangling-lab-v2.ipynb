{
 "cells": [
  {
   "cell_type": "markdown",
   "metadata": {},
   "source": [
    "<p style=\"text-align:center\">\n",
    "    <a href=\"https://skills.network\" target=\"_blank\">\n",
    "    <img src=\"https://cf-courses-data.s3.us.cloud-object-storage.appdomain.cloud/assets/logos/SN_web_lightmode.png\" width=\"200\" alt=\"Skills Network Logo\"  />\n",
    "    </a>\n",
    "</p>\n"
   ]
  },
  {
   "cell_type": "markdown",
   "metadata": {},
   "source": [
    "# **Data Wrangling Lab**\n"
   ]
  },
  {
   "cell_type": "markdown",
   "metadata": {},
   "source": [
    "Estimated time needed: **45** minutes\n"
   ]
  },
  {
   "cell_type": "markdown",
   "metadata": {},
   "source": [
    "In this lab, you will perform data wrangling tasks to prepare raw data for analysis. Data wrangling involves cleaning, transforming, and organizing data into a structured format suitable for analysis. This lab focuses on tasks like identifying inconsistencies, encoding categorical variables, and feature transformation.\n"
   ]
  },
  {
   "cell_type": "markdown",
   "metadata": {},
   "source": [
    "## Objectives\n"
   ]
  },
  {
   "cell_type": "markdown",
   "metadata": {},
   "source": [
    "After completing this lab, you will be able to:\n"
   ]
  },
  {
   "cell_type": "markdown",
   "metadata": {},
   "source": [
    "- Identify and remove inconsistent data entries.\n",
    "\n",
    "- Encode categorical variables for analysis.\n",
    "\n",
    "- Handle missing values using multiple imputation strategies.\n",
    "\n",
    "- Apply feature scaling and transformation techniques.\n"
   ]
  },
  {
   "cell_type": "markdown",
   "metadata": {},
   "source": [
    "#### Intsall the required libraries\n"
   ]
  },
  {
   "cell_type": "code",
   "execution_count": 1,
   "metadata": {},
   "outputs": [
    {
     "name": "stdout",
     "output_type": "stream",
     "text": [
      "Requirement already satisfied: pandas in /opt/conda/lib/python3.12/site-packages (2.3.0)\n",
      "Requirement already satisfied: numpy>=1.26.0 in /opt/conda/lib/python3.12/site-packages (from pandas) (2.3.1)\n",
      "Requirement already satisfied: python-dateutil>=2.8.2 in /opt/conda/lib/python3.12/site-packages (from pandas) (2.9.0.post0)\n",
      "Requirement already satisfied: pytz>=2020.1 in /opt/conda/lib/python3.12/site-packages (from pandas) (2024.2)\n",
      "Requirement already satisfied: tzdata>=2022.7 in /opt/conda/lib/python3.12/site-packages (from pandas) (2025.2)\n",
      "Requirement already satisfied: six>=1.5 in /opt/conda/lib/python3.12/site-packages (from python-dateutil>=2.8.2->pandas) (1.17.0)\n",
      "Requirement already satisfied: matplotlib in /opt/conda/lib/python3.12/site-packages (3.10.3)\n",
      "Requirement already satisfied: contourpy>=1.0.1 in /opt/conda/lib/python3.12/site-packages (from matplotlib) (1.3.2)\n",
      "Requirement already satisfied: cycler>=0.10 in /opt/conda/lib/python3.12/site-packages (from matplotlib) (0.12.1)\n",
      "Requirement already satisfied: fonttools>=4.22.0 in /opt/conda/lib/python3.12/site-packages (from matplotlib) (4.58.4)\n",
      "Requirement already satisfied: kiwisolver>=1.3.1 in /opt/conda/lib/python3.12/site-packages (from matplotlib) (1.4.8)\n",
      "Requirement already satisfied: numpy>=1.23 in /opt/conda/lib/python3.12/site-packages (from matplotlib) (2.3.1)\n",
      "Requirement already satisfied: packaging>=20.0 in /opt/conda/lib/python3.12/site-packages (from matplotlib) (24.2)\n",
      "Requirement already satisfied: pillow>=8 in /opt/conda/lib/python3.12/site-packages (from matplotlib) (11.2.1)\n",
      "Requirement already satisfied: pyparsing>=2.3.1 in /opt/conda/lib/python3.12/site-packages (from matplotlib) (3.2.3)\n",
      "Requirement already satisfied: python-dateutil>=2.7 in /opt/conda/lib/python3.12/site-packages (from matplotlib) (2.9.0.post0)\n",
      "Requirement already satisfied: six>=1.5 in /opt/conda/lib/python3.12/site-packages (from python-dateutil>=2.7->matplotlib) (1.17.0)\n"
     ]
    }
   ],
   "source": [
    "!pip install pandas\n",
    "!pip install matplotlib"
   ]
  },
  {
   "cell_type": "markdown",
   "metadata": {},
   "source": [
    "## Tasks\n"
   ]
  },
  {
   "cell_type": "markdown",
   "metadata": {},
   "source": [
    "#### Step 1: Import the necessary module.\n"
   ]
  },
  {
   "cell_type": "markdown",
   "metadata": {},
   "source": [
    "### 1. Load the Dataset\n"
   ]
  },
  {
   "cell_type": "markdown",
   "metadata": {},
   "source": [
    "<h5>1.1 Import necessary libraries and load the dataset.</h5>\n"
   ]
  },
  {
   "cell_type": "markdown",
   "metadata": {},
   "source": [
    "Ensure the dataset is loaded correctly by displaying the first few rows.\n"
   ]
  },
  {
   "cell_type": "code",
   "execution_count": 2,
   "metadata": {},
   "outputs": [
    {
     "name": "stdout",
     "output_type": "stream",
     "text": [
      "   ResponseId                      MainBranch                 Age  \\\n",
      "0           1  I am a developer by profession  Under 18 years old   \n",
      "1           2  I am a developer by profession     35-44 years old   \n",
      "2           3  I am a developer by profession     45-54 years old   \n",
      "3           4           I am learning to code     18-24 years old   \n",
      "4           5  I am a developer by profession     18-24 years old   \n",
      "\n",
      "            Employment RemoteWork   Check  \\\n",
      "0  Employed, full-time     Remote  Apples   \n",
      "1  Employed, full-time     Remote  Apples   \n",
      "2  Employed, full-time     Remote  Apples   \n",
      "3   Student, full-time        NaN  Apples   \n",
      "4   Student, full-time        NaN  Apples   \n",
      "\n",
      "                                    CodingActivities  \\\n",
      "0                                              Hobby   \n",
      "1  Hobby;Contribute to open-source projects;Other...   \n",
      "2  Hobby;Contribute to open-source projects;Other...   \n",
      "3                                                NaN   \n",
      "4                                                NaN   \n",
      "\n",
      "                                             EdLevel  \\\n",
      "0                          Primary/elementary school   \n",
      "1       Bachelor’s degree (B.A., B.S., B.Eng., etc.)   \n",
      "2    Master’s degree (M.A., M.S., M.Eng., MBA, etc.)   \n",
      "3  Some college/university study without earning ...   \n",
      "4  Secondary school (e.g. American high school, G...   \n",
      "\n",
      "                                           LearnCode  \\\n",
      "0                             Books / Physical media   \n",
      "1  Books / Physical media;Colleague;On the job tr...   \n",
      "2  Books / Physical media;Colleague;On the job tr...   \n",
      "3  Other online resources (e.g., videos, blogs, f...   \n",
      "4  Other online resources (e.g., videos, blogs, f...   \n",
      "\n",
      "                                     LearnCodeOnline  ... JobSatPoints_6  \\\n",
      "0                                                NaN  ...            NaN   \n",
      "1  Technical documentation;Blogs;Books;Written Tu...  ...            0.0   \n",
      "2  Technical documentation;Blogs;Books;Written Tu...  ...            NaN   \n",
      "3  Stack Overflow;How-to videos;Interactive tutorial  ...            NaN   \n",
      "4  Technical documentation;Blogs;Written Tutorial...  ...            NaN   \n",
      "\n",
      "  JobSatPoints_7 JobSatPoints_8 JobSatPoints_9 JobSatPoints_10  \\\n",
      "0            NaN            NaN            NaN             NaN   \n",
      "1            0.0            0.0            0.0             0.0   \n",
      "2            NaN            NaN            NaN             NaN   \n",
      "3            NaN            NaN            NaN             NaN   \n",
      "4            NaN            NaN            NaN             NaN   \n",
      "\n",
      "  JobSatPoints_11           SurveyLength SurveyEase ConvertedCompYearly JobSat  \n",
      "0             NaN                    NaN        NaN                 NaN    NaN  \n",
      "1             0.0                    NaN        NaN                 NaN    NaN  \n",
      "2             NaN  Appropriate in length       Easy                 NaN    NaN  \n",
      "3             NaN               Too long       Easy                 NaN    NaN  \n",
      "4             NaN              Too short       Easy                 NaN    NaN  \n",
      "\n",
      "[5 rows x 114 columns]\n"
     ]
    }
   ],
   "source": [
    "# Import necessary libraries\n",
    "import pandas as pd\n",
    "\n",
    "# Load the Stack Overflow survey data\n",
    "dataset_url = \"https://cf-courses-data.s3.us.cloud-object-storage.appdomain.cloud/n01PQ9pSmiRX6520flujwQ/survey-data.csv\"\n",
    "df = pd.read_csv(dataset_url)\n",
    "\n",
    "# Display the first few rows\n",
    "print(df.head())\n"
   ]
  },
  {
   "cell_type": "markdown",
   "metadata": {},
   "source": [
    "#### 2. Explore the Dataset\n"
   ]
  },
  {
   "cell_type": "markdown",
   "metadata": {},
   "source": [
    "<h5>2.1 Summarize the dataset by displaying the column data types, counts, and missing values.</h5>\n"
   ]
  },
  {
   "cell_type": "code",
   "execution_count": 3,
   "metadata": {},
   "outputs": [
    {
     "name": "stdout",
     "output_type": "stream",
     "text": [
      "<class 'pandas.core.frame.DataFrame'>\n",
      "RangeIndex: 65437 entries, 0 to 65436\n",
      "Columns: 114 entries, ResponseId to JobSat\n",
      "dtypes: float64(13), int64(1), object(100)\n",
      "memory usage: 56.9+ MB\n",
      "None\n",
      "\n",
      "Missing values per column:\n",
      "RemoteWork             10631\n",
      "CodingActivities       10971\n",
      "EdLevel                 4653\n",
      "LearnCode               4949\n",
      "LearnCodeOnline        16200\n",
      "                       ...  \n",
      "JobSatPoints_11        35992\n",
      "SurveyLength            9255\n",
      "SurveyEase              9199\n",
      "ConvertedCompYearly    42002\n",
      "JobSat                 36311\n",
      "Length: 109, dtype: int64\n"
     ]
    }
   ],
   "source": [
    "# Write your code here\n",
    "# Summary of data types and counts (non-null values)\n",
    "print(df.info())\n",
    "\n",
    "# Calculate missing values count per column\n",
    "missing_values = df.isnull().sum()\n",
    "\n",
    "# Display columns with missing values (optional: only those with any missing data)\n",
    "missing_values = missing_values[missing_values > 0]\n",
    "\n",
    "print(\"\\nMissing values per column:\")\n",
    "print(missing_values)\n"
   ]
  },
  {
   "cell_type": "markdown",
   "metadata": {},
   "source": [
    "<h5>2.2 Generate basic statistics for numerical columns.</h5>\n"
   ]
  },
  {
   "cell_type": "code",
   "execution_count": 4,
   "metadata": {},
   "outputs": [
    {
     "name": "stdout",
     "output_type": "stream",
     "text": [
      "         ResponseId      CompTotal       WorkExp  JobSatPoints_1  \\\n",
      "count  65437.000000   3.374000e+04  29658.000000    29324.000000   \n",
      "mean   32719.000000  2.963841e+145     11.466957       18.581094   \n",
      "std    18890.179119  5.444117e+147      9.168709       25.966221   \n",
      "min        1.000000   0.000000e+00      0.000000        0.000000   \n",
      "25%    16360.000000   6.000000e+04      4.000000        0.000000   \n",
      "50%    32719.000000   1.100000e+05      9.000000       10.000000   \n",
      "75%    49078.000000   2.500000e+05     16.000000       22.000000   \n",
      "max    65437.000000  1.000000e+150     50.000000      100.000000   \n",
      "\n",
      "       JobSatPoints_4  JobSatPoints_5  JobSatPoints_6  JobSatPoints_7  \\\n",
      "count    29393.000000    29411.000000    29450.000000     29448.00000   \n",
      "mean         7.522140       10.060857       24.343232        22.96522   \n",
      "std         18.422661       21.833836       27.089360        27.01774   \n",
      "min          0.000000        0.000000        0.000000         0.00000   \n",
      "25%          0.000000        0.000000        0.000000         0.00000   \n",
      "50%          0.000000        0.000000       20.000000        15.00000   \n",
      "75%          5.000000       10.000000       30.000000        30.00000   \n",
      "max        100.000000      100.000000      100.000000       100.00000   \n",
      "\n",
      "       JobSatPoints_8  JobSatPoints_9  JobSatPoints_10  JobSatPoints_11  \\\n",
      "count    29456.000000    29456.000000     29450.000000     29445.000000   \n",
      "mean        20.278165       16.169432        10.955713         9.953948   \n",
      "std         26.108110       24.845032        22.906263        21.775652   \n",
      "min          0.000000        0.000000         0.000000         0.000000   \n",
      "25%          0.000000        0.000000         0.000000         0.000000   \n",
      "50%         10.000000        5.000000         0.000000         0.000000   \n",
      "75%         25.000000       20.000000        10.000000        10.000000   \n",
      "max        100.000000      100.000000       100.000000       100.000000   \n",
      "\n",
      "       ConvertedCompYearly        JobSat  \n",
      "count         2.343500e+04  29126.000000  \n",
      "mean          8.615529e+04      6.935041  \n",
      "std           1.867570e+05      2.088259  \n",
      "min           1.000000e+00      0.000000  \n",
      "25%           3.271200e+04      6.000000  \n",
      "50%           6.500000e+04      7.000000  \n",
      "75%           1.079715e+05      8.000000  \n",
      "max           1.625660e+07     10.000000  \n"
     ]
    }
   ],
   "source": [
    "# Write your code here\n",
    "# Generate basic statistics for numerical columns only\n",
    "numeric_stats = df.describe()\n",
    "\n",
    "print(numeric_stats)\n"
   ]
  },
  {
   "cell_type": "markdown",
   "metadata": {},
   "source": [
    "### 3. Identifying and Removing Inconsistencies\n"
   ]
  },
  {
   "cell_type": "markdown",
   "metadata": {},
   "source": [
    "<h5>3.1 Identify inconsistent or irrelevant entries in specific columns (e.g., Country).</h5>\n"
   ]
  },
  {
   "cell_type": "code",
   "execution_count": 5,
   "metadata": {},
   "outputs": [
    {
     "name": "stdout",
     "output_type": "stream",
     "text": [
      "Unique values and counts in 'Country':\n",
      "Country\n",
      "United States of America                                11095\n",
      "NaN                                                      6507\n",
      "Germany                                                  4947\n",
      "India                                                    4231\n",
      "United Kingdom of Great Britain and Northern Ireland     3224\n",
      "                                                        ...  \n",
      "Micronesia, Federated States of...                          1\n",
      "Nauru                                                       1\n",
      "Chad                                                        1\n",
      "Djibouti                                                    1\n",
      "Solomon Islands                                             1\n",
      "Name: count, Length: 186, dtype: int64\n",
      "\n",
      "Number of missing or empty entries in 'Country': 6507\n",
      "\n",
      "Short country entries (length < 3): []\n",
      "\n",
      "Total unique non-null country entries: 185\n",
      "['United States of America'\n",
      " 'United Kingdom of Great Britain and Northern Ireland' 'Canada' 'Norway'\n",
      " 'Uzbekistan' 'Serbia' 'Poland' 'Philippines' 'Bulgaria' 'Switzerland'\n",
      " 'India' 'Germany' 'Ireland' 'Italy' 'Ukraine' 'Australia' 'Brazil'\n",
      " 'Japan' 'Austria' 'Iran, Islamic Republic of...' 'France' 'Saudi Arabia'\n",
      " 'Romania' 'Turkey' 'Nepal' 'Algeria' 'Sweden' 'Netherlands' 'Croatia'\n",
      " 'Pakistan' 'Czech Republic' 'Republic of North Macedonia' 'Finland'\n",
      " 'Slovakia' 'Russian Federation' 'Greece' 'Israel' 'Belgium' 'Mexico'\n",
      " 'United Republic of Tanzania' 'Hungary' 'Argentina' 'Portugal'\n",
      " 'Sri Lanka' 'Latvia' 'China' 'Singapore' 'Lebanon' 'Spain' 'South Africa'\n",
      " 'Lithuania' 'Viet Nam' 'Dominican Republic' 'Indonesia' 'Kosovo'\n",
      " 'Morocco' 'Taiwan' 'Georgia' 'San Marino' 'Tunisia' 'Bangladesh'\n",
      " 'Nigeria' 'Liechtenstein' 'Denmark' 'Ecuador' 'Malaysia' 'Albania'\n",
      " 'Azerbaijan' 'Chile' 'Ghana' 'Peru' 'Bolivia' 'Egypt' 'Luxembourg'\n",
      " 'Montenegro' 'Cyprus' 'Paraguay' 'Kazakhstan' 'Slovenia' 'Jordan'\n",
      " 'Venezuela, Bolivarian Republic of...' 'Costa Rica' 'Jamaica' 'Thailand'\n",
      " 'Nicaragua' 'Myanmar' 'Republic of Korea' 'Rwanda'\n",
      " 'Bosnia and Herzegovina' 'Benin' 'El Salvador' 'Zimbabwe' 'Afghanistan'\n",
      " 'Estonia' 'Malta' 'Uruguay' 'Belarus' 'Colombia' 'Republic of Moldova'\n",
      " 'Isle of Man' 'Nomadic' 'New Zealand' 'Palestine' 'Armenia'\n",
      " 'United Arab Emirates' 'Maldives' 'Ethiopia' 'Fiji' 'Guatemala' 'Uganda'\n",
      " 'Turkmenistan' 'Mauritius' 'Kenya' 'Cuba' 'Gabon' 'Bahamas' 'South Korea'\n",
      " 'Iceland' 'Honduras' 'Hong Kong (S.A.R.)'\n",
      " \"Lao People's Democratic Republic\" 'Mongolia' 'Cambodia' 'Madagascar'\n",
      " 'Angola' 'Democratic Republic of the Congo' 'Syrian Arab Republic' 'Iraq'\n",
      " 'Namibia' 'Senegal' 'Kyrgyzstan' 'Zambia' 'Swaziland' \"Côte d'Ivoire\"\n",
      " 'Kuwait' 'Tajikistan' 'Burundi' 'Trinidad and Tobago' 'Mauritania'\n",
      " 'Sierra Leone' 'Panama' 'Somalia' 'North Korea' 'Dominica' 'Guyana'\n",
      " 'Togo' 'Oman' 'Barbados' 'Andorra'\n",
      " \"Democratic People's Republic of Korea\" 'Qatar' 'Sudan' 'Cameroon'\n",
      " 'Papua New Guinea' 'Bahrain' 'Yemen' 'Malawi' 'Burkina Faso'\n",
      " 'Congo, Republic of the...' 'Botswana' 'Guinea-Bissau' 'Mozambique'\n",
      " 'Central African Republic' 'Equatorial Guinea' 'Suriname' 'Belize'\n",
      " 'Libyan Arab Jamahiriya' 'Cape Verde' 'Brunei Darussalam' 'Bhutan'\n",
      " 'Guinea' 'Niger' 'Antigua and Barbuda' 'Mali' 'Samoa' 'Lesotho'\n",
      " 'Saint Kitts and Nevis' 'Monaco' 'Micronesia, Federated States of...'\n",
      " 'Haiti' 'Nauru' 'Liberia' 'Chad' 'Djibouti' 'Solomon Islands']\n"
     ]
    }
   ],
   "source": [
    "# Write your code here\n",
    "import pandas as pd\n",
    "\n",
    "# Assuming df is already loaded\n",
    "\n",
    "# 1. Display unique values and their counts in 'Country' column (including NaNs)\n",
    "print(\"Unique values and counts in 'Country':\")\n",
    "country_counts = df['Country'].value_counts(dropna=False)\n",
    "print(country_counts)\n",
    "\n",
    "# 2. Identify missing or empty string entries in 'Country'\n",
    "missing_or_empty = df[df['Country'].isnull() | (df['Country'].str.strip() == '')]['Country']\n",
    "print(f\"\\nNumber of missing or empty entries in 'Country': {missing_or_empty.shape[0]}\")\n",
    "\n",
    "# 3. Identify unusually short entries (length < 3 characters)\n",
    "short_entries = df[df['Country'].notnull() & (df['Country'].str.len() < 3)]['Country'].unique()\n",
    "print(f\"\\nShort country entries (length < 3): {short_entries}\")\n",
    "\n",
    "# 4. (Optional) Show all unique country names for manual inspection\n",
    "unique_countries = df['Country'].dropna().unique()\n",
    "print(f\"\\nTotal unique non-null country entries: {len(unique_countries)}\")\n",
    "print(unique_countries)\n"
   ]
  },
  {
   "cell_type": "markdown",
   "metadata": {},
   "source": [
    "<h5>3.2 Standardize entries in columns like Country or EdLevel by mapping inconsistent values to a consistent format.</h5>\n"
   ]
  },
  {
   "cell_type": "code",
   "execution_count": 6,
   "metadata": {},
   "outputs": [
    {
     "name": "stdout",
     "output_type": "stream",
     "text": [
      "Unique values and counts in 'Country':\n",
      "Country\n",
      "United States of America                                11095\n",
      "NaN                                                      6507\n",
      "Germany                                                  4947\n",
      "India                                                    4231\n",
      "United Kingdom of Great Britain and Northern Ireland     3224\n",
      "                                                        ...  \n",
      "Micronesia, Federated States of...                          1\n",
      "Nauru                                                       1\n",
      "Chad                                                        1\n",
      "Djibouti                                                    1\n",
      "Solomon Islands                                             1\n",
      "Name: count, Length: 186, dtype: int64\n",
      "\n",
      "Number of missing or empty entries in 'Country': 6507\n",
      "\n",
      "Short country entries (length < 3): []\n",
      "\n",
      "Total unique non-null country entries: 185\n",
      "['United States of America'\n",
      " 'United Kingdom of Great Britain and Northern Ireland' 'Canada' 'Norway'\n",
      " 'Uzbekistan' 'Serbia' 'Poland' 'Philippines' 'Bulgaria' 'Switzerland'\n",
      " 'India' 'Germany' 'Ireland' 'Italy' 'Ukraine' 'Australia' 'Brazil'\n",
      " 'Japan' 'Austria' 'Iran, Islamic Republic of...' 'France' 'Saudi Arabia'\n",
      " 'Romania' 'Turkey' 'Nepal' 'Algeria' 'Sweden' 'Netherlands' 'Croatia'\n",
      " 'Pakistan' 'Czech Republic' 'Republic of North Macedonia' 'Finland'\n",
      " 'Slovakia' 'Russian Federation' 'Greece' 'Israel' 'Belgium' 'Mexico'\n",
      " 'United Republic of Tanzania' 'Hungary' 'Argentina' 'Portugal'\n",
      " 'Sri Lanka' 'Latvia' 'China' 'Singapore' 'Lebanon' 'Spain' 'South Africa'\n",
      " 'Lithuania' 'Viet Nam' 'Dominican Republic' 'Indonesia' 'Kosovo'\n",
      " 'Morocco' 'Taiwan' 'Georgia' 'San Marino' 'Tunisia' 'Bangladesh'\n",
      " 'Nigeria' 'Liechtenstein' 'Denmark' 'Ecuador' 'Malaysia' 'Albania'\n",
      " 'Azerbaijan' 'Chile' 'Ghana' 'Peru' 'Bolivia' 'Egypt' 'Luxembourg'\n",
      " 'Montenegro' 'Cyprus' 'Paraguay' 'Kazakhstan' 'Slovenia' 'Jordan'\n",
      " 'Venezuela, Bolivarian Republic of...' 'Costa Rica' 'Jamaica' 'Thailand'\n",
      " 'Nicaragua' 'Myanmar' 'Republic of Korea' 'Rwanda'\n",
      " 'Bosnia and Herzegovina' 'Benin' 'El Salvador' 'Zimbabwe' 'Afghanistan'\n",
      " 'Estonia' 'Malta' 'Uruguay' 'Belarus' 'Colombia' 'Republic of Moldova'\n",
      " 'Isle of Man' 'Nomadic' 'New Zealand' 'Palestine' 'Armenia'\n",
      " 'United Arab Emirates' 'Maldives' 'Ethiopia' 'Fiji' 'Guatemala' 'Uganda'\n",
      " 'Turkmenistan' 'Mauritius' 'Kenya' 'Cuba' 'Gabon' 'Bahamas' 'South Korea'\n",
      " 'Iceland' 'Honduras' 'Hong Kong (S.A.R.)'\n",
      " \"Lao People's Democratic Republic\" 'Mongolia' 'Cambodia' 'Madagascar'\n",
      " 'Angola' 'Democratic Republic of the Congo' 'Syrian Arab Republic' 'Iraq'\n",
      " 'Namibia' 'Senegal' 'Kyrgyzstan' 'Zambia' 'Swaziland' \"Côte d'Ivoire\"\n",
      " 'Kuwait' 'Tajikistan' 'Burundi' 'Trinidad and Tobago' 'Mauritania'\n",
      " 'Sierra Leone' 'Panama' 'Somalia' 'North Korea' 'Dominica' 'Guyana'\n",
      " 'Togo' 'Oman' 'Barbados' 'Andorra'\n",
      " \"Democratic People's Republic of Korea\" 'Qatar' 'Sudan' 'Cameroon'\n",
      " 'Papua New Guinea' 'Bahrain' 'Yemen' 'Malawi' 'Burkina Faso'\n",
      " 'Congo, Republic of the...' 'Botswana' 'Guinea-Bissau' 'Mozambique'\n",
      " 'Central African Republic' 'Equatorial Guinea' 'Suriname' 'Belize'\n",
      " 'Libyan Arab Jamahiriya' 'Cape Verde' 'Brunei Darussalam' 'Bhutan'\n",
      " 'Guinea' 'Niger' 'Antigua and Barbuda' 'Mali' 'Samoa' 'Lesotho'\n",
      " 'Saint Kitts and Nevis' 'Monaco' 'Micronesia, Federated States of...'\n",
      " 'Haiti' 'Nauru' 'Liberia' 'Chad' 'Djibouti' 'Solomon Islands']\n",
      "\n",
      "Sample standardized 'Country' values:\n",
      "                                              Country  \\\n",
      "0                            United States of America   \n",
      "1   United Kingdom of Great Britain and Northern I...   \n",
      "3                                              Canada   \n",
      "4                                              Norway   \n",
      "7                                          Uzbekistan   \n",
      "9                                              Serbia   \n",
      "11                                             Poland   \n",
      "13                                        Philippines   \n",
      "14                                           Bulgaria   \n",
      "15                                        Switzerland   \n",
      "\n",
      "                                 Country_Standardized  \n",
      "0                                                 USA  \n",
      "1   United Kingdom of Great Britain and Northern I...  \n",
      "3                                              Canada  \n",
      "4                                              Norway  \n",
      "7                                          Uzbekistan  \n",
      "9                                              Serbia  \n",
      "11                                             Poland  \n",
      "13                                        Philippines  \n",
      "14                                           Bulgaria  \n",
      "15                                        Switzerland  \n",
      "\n",
      "Sample standardized 'EdLevel' values:\n",
      "                                                 EdLevel  \\\n",
      "0                              Primary/elementary school   \n",
      "1           Bachelor’s degree (B.A., B.S., B.Eng., etc.)   \n",
      "2        Master’s degree (M.A., M.S., M.Eng., MBA, etc.)   \n",
      "3      Some college/university study without earning ...   \n",
      "4      Secondary school (e.g. American high school, G...   \n",
      "6         Professional degree (JD, MD, Ph.D, Ed.D, etc.)   \n",
      "25                   Associate degree (A.A., A.S., etc.)   \n",
      "30                                        Something else   \n",
      "43448                                                NaN   \n",
      "\n",
      "                                    EdLevel_Standardized  \n",
      "0                                     Primary/Elementary  \n",
      "1                                      Bachelor’s degree  \n",
      "2                                        Master’s degree  \n",
      "3                                           Some college  \n",
      "4      Secondary school (e.g. American high school, G...  \n",
      "6         Professional degree (JD, MD, Ph.D, Ed.D, etc.)  \n",
      "25                   Associate degree (A.A., A.S., etc.)  \n",
      "30                                        Something else  \n",
      "43448                                                NaN  \n"
     ]
    }
   ],
   "source": [
    "## Write your code here\n",
    "import pandas as pd\n",
    "\n",
    "# Assuming df is already loaded\n",
    "\n",
    "# 1. Identify inconsistent or irrelevant entries in 'Country'\n",
    "print(\"Unique values and counts in 'Country':\")\n",
    "country_counts = df['Country'].value_counts(dropna=False)\n",
    "print(country_counts)\n",
    "\n",
    "missing_or_empty = df[df['Country'].isnull() | (df['Country'].str.strip() == '')]['Country']\n",
    "print(f\"\\nNumber of missing or empty entries in 'Country': {missing_or_empty.shape[0]}\")\n",
    "\n",
    "short_entries = df[df['Country'].notnull() & (df['Country'].str.len() < 3)]['Country'].unique()\n",
    "print(f\"\\nShort country entries (length < 3): {short_entries}\")\n",
    "\n",
    "unique_countries = df['Country'].dropna().unique()\n",
    "print(f\"\\nTotal unique non-null country entries: {len(unique_countries)}\")\n",
    "print(unique_countries)\n",
    "\n",
    "# 2. Standardize entries in 'Country' and 'EdLevel' columns by mapping inconsistent values\n",
    "\n",
    "# Example mapping dictionary for Country\n",
    "country_mapping = {\n",
    "    'United States of America': 'USA',\n",
    "    'United States': 'USA',\n",
    "    'U.S.': 'USA',\n",
    "    'USA': 'USA',\n",
    "    'UK': 'United Kingdom',\n",
    "    'U.K.': 'United Kingdom',\n",
    "    'England': 'United Kingdom',\n",
    "    'Great Britain': 'United Kingdom',\n",
    "    # Add more mappings as needed\n",
    "}\n",
    "\n",
    "# Example mapping dictionary for EdLevel\n",
    "edlevel_mapping = {\n",
    "    'Bachelor’s degree (B.A., B.S., B.Eng., etc.)': 'Bachelor’s degree',\n",
    "    'Master’s degree (M.A., M.S., M.Eng., MBA, etc.)': 'Master’s degree',\n",
    "    'Primary/elementary school': 'Primary/Elementary',\n",
    "    'Secondary school (e.g. American high school, GCSEs, etc.)': 'Secondary school',\n",
    "    'Some college/university study without earning a degree': 'Some college',\n",
    "    # Add more mappings as needed\n",
    "}\n",
    "\n",
    "# Apply the mappings to create standardized columns\n",
    "df['Country_Standardized'] = df['Country'].replace(country_mapping)\n",
    "df['EdLevel_Standardized'] = df['EdLevel'].replace(edlevel_mapping)\n",
    "\n",
    "# Check the results\n",
    "print(\"\\nSample standardized 'Country' values:\")\n",
    "print(df[['Country', 'Country_Standardized']].drop_duplicates().head(10))\n",
    "\n",
    "print(\"\\nSample standardized 'EdLevel' values:\")\n",
    "print(df[['EdLevel', 'EdLevel_Standardized']].drop_duplicates().head(10))\n"
   ]
  },
  {
   "cell_type": "markdown",
   "metadata": {},
   "source": [
    "### 4. Encoding Categorical Variables\n"
   ]
  },
  {
   "cell_type": "markdown",
   "metadata": {},
   "source": [
    "<h5>4.1 Encode the Employment column using one-hot encoding.</h5>\n"
   ]
  },
  {
   "cell_type": "code",
   "execution_count": 7,
   "metadata": {},
   "outputs": [
    {
     "name": "stdout",
     "output_type": "stream",
     "text": [
      "   Employment_Employed, full-time  \\\n",
      "0                            True   \n",
      "1                            True   \n",
      "2                            True   \n",
      "3                           False   \n",
      "4                           False   \n",
      "\n",
      "   Employment_Employed, full-time;Employed, part-time  \\\n",
      "0                                              False    \n",
      "1                                              False    \n",
      "2                                              False    \n",
      "3                                              False    \n",
      "4                                              False    \n",
      "\n",
      "   Employment_Employed, full-time;Independent contractor, freelancer, or self-employed  \\\n",
      "0                                              False                                     \n",
      "1                                              False                                     \n",
      "2                                              False                                     \n",
      "3                                              False                                     \n",
      "4                                              False                                     \n",
      "\n",
      "   Employment_Employed, full-time;Independent contractor, freelancer, or self-employed;Employed, part-time  \\\n",
      "0                                              False                                                         \n",
      "1                                              False                                                         \n",
      "2                                              False                                                         \n",
      "3                                              False                                                         \n",
      "4                                              False                                                         \n",
      "\n",
      "   Employment_Employed, full-time;Independent contractor, freelancer, or self-employed;Employed, part-time;Retired  \\\n",
      "0                                              False                                                                 \n",
      "1                                              False                                                                 \n",
      "2                                              False                                                                 \n",
      "3                                              False                                                                 \n",
      "4                                              False                                                                 \n",
      "\n",
      "   Employment_Employed, full-time;Independent contractor, freelancer, or self-employed;Not employed, and not looking for work  \\\n",
      "0                                              False                                                                            \n",
      "1                                              False                                                                            \n",
      "2                                              False                                                                            \n",
      "3                                              False                                                                            \n",
      "4                                              False                                                                            \n",
      "\n",
      "   Employment_Employed, full-time;Independent contractor, freelancer, or self-employed;Not employed, and not looking for work;Employed, part-time  \\\n",
      "0                                              False                                                                                                \n",
      "1                                              False                                                                                                \n",
      "2                                              False                                                                                                \n",
      "3                                              False                                                                                                \n",
      "4                                              False                                                                                                \n",
      "\n",
      "   Employment_Employed, full-time;Independent contractor, freelancer, or self-employed;Not employed, and not looking for work;Student, part-time  \\\n",
      "0                                              False                                                                                               \n",
      "1                                              False                                                                                               \n",
      "2                                              False                                                                                               \n",
      "3                                              False                                                                                               \n",
      "4                                              False                                                                                               \n",
      "\n",
      "   Employment_Employed, full-time;Independent contractor, freelancer, or self-employed;Retired  \\\n",
      "0                                              False                                             \n",
      "1                                              False                                             \n",
      "2                                              False                                             \n",
      "3                                              False                                             \n",
      "4                                              False                                             \n",
      "\n",
      "   Employment_Employed, full-time;Independent contractor, freelancer, or self-employed;Student, part-time  \\\n",
      "0                                              False                                                        \n",
      "1                                              False                                                        \n",
      "2                                              False                                                        \n",
      "3                                              False                                                        \n",
      "4                                              False                                                        \n",
      "\n",
      "   ...  \\\n",
      "0  ...   \n",
      "1  ...   \n",
      "2  ...   \n",
      "3  ...   \n",
      "4  ...   \n",
      "\n",
      "   Employment_Student, full-time;Not employed, but looking for work;Not employed, and not looking for work;Student, part-time  \\\n",
      "0                                              False                                                                            \n",
      "1                                              False                                                                            \n",
      "2                                              False                                                                            \n",
      "3                                              False                                                                            \n",
      "4                                              False                                                                            \n",
      "\n",
      "   Employment_Student, full-time;Not employed, but looking for work;Retired  \\\n",
      "0                                              False                          \n",
      "1                                              False                          \n",
      "2                                              False                          \n",
      "3                                              False                          \n",
      "4                                              False                          \n",
      "\n",
      "   Employment_Student, full-time;Not employed, but looking for work;Student, part-time  \\\n",
      "0                                              False                                     \n",
      "1                                              False                                     \n",
      "2                                              False                                     \n",
      "3                                              False                                     \n",
      "4                                              False                                     \n",
      "\n",
      "   Employment_Student, full-time;Retired  \\\n",
      "0                                  False   \n",
      "1                                  False   \n",
      "2                                  False   \n",
      "3                                  False   \n",
      "4                                  False   \n",
      "\n",
      "   Employment_Student, full-time;Student, part-time  \\\n",
      "0                                             False   \n",
      "1                                             False   \n",
      "2                                             False   \n",
      "3                                             False   \n",
      "4                                             False   \n",
      "\n",
      "   Employment_Student, full-time;Student, part-time;Employed, part-time  \\\n",
      "0                                              False                      \n",
      "1                                              False                      \n",
      "2                                              False                      \n",
      "3                                              False                      \n",
      "4                                              False                      \n",
      "\n",
      "   Employment_Student, full-time;Student, part-time;Retired  \\\n",
      "0                                              False          \n",
      "1                                              False          \n",
      "2                                              False          \n",
      "3                                              False          \n",
      "4                                              False          \n",
      "\n",
      "   Employment_Student, part-time  \\\n",
      "0                          False   \n",
      "1                          False   \n",
      "2                          False   \n",
      "3                          False   \n",
      "4                          False   \n",
      "\n",
      "   Employment_Student, part-time;Employed, part-time  \\\n",
      "0                                              False   \n",
      "1                                              False   \n",
      "2                                              False   \n",
      "3                                              False   \n",
      "4                                              False   \n",
      "\n",
      "   Employment_Student, part-time;Retired  \n",
      "0                                  False  \n",
      "1                                  False  \n",
      "2                                  False  \n",
      "3                                  False  \n",
      "4                                  False  \n",
      "\n",
      "[5 rows x 110 columns]\n"
     ]
    }
   ],
   "source": [
    "## Write your code here\n",
    "# One-hot encode the 'Employment' column\n",
    "employment_dummies = pd.get_dummies(df['Employment'], prefix='Employment')\n",
    "\n",
    "# Concatenate the new one-hot encoded columns to the original dataframe\n",
    "df = pd.concat([df, employment_dummies], axis=1)\n",
    "\n",
    "# Optional: view the first few rows of the new columns\n",
    "print(df[employment_dummies.columns].head())\n"
   ]
  },
  {
   "cell_type": "markdown",
   "metadata": {},
   "source": [
    "### 5. Handling Missing Values\n"
   ]
  },
  {
   "cell_type": "markdown",
   "metadata": {},
   "source": [
    "<h5>5.1 Identify columns with the highest number of missing values.</h5>\n"
   ]
  },
  {
   "cell_type": "code",
   "execution_count": 8,
   "metadata": {},
   "outputs": [
    {
     "name": "stdout",
     "output_type": "stream",
     "text": [
      "Columns with the highest number of missing values:\n",
      "AINextMuch less integrated       64289\n",
      "AINextLess integrated            63082\n",
      "AINextNo change                  52939\n",
      "AINextMuch more integrated       51999\n",
      "EmbeddedAdmired                  48704\n",
      "EmbeddedWantToWorkWith           47837\n",
      "EmbeddedHaveWorkedWith           43223\n",
      "ConvertedCompYearly              42002\n",
      "AIToolNot interested in Using    41023\n",
      "AINextMore integrated            41009\n",
      "dtype: int64\n"
     ]
    }
   ],
   "source": [
    "## Write your code here\n",
    "# Calculate missing values per column\n",
    "missing_counts = df.isnull().sum()\n",
    "\n",
    "# Sort columns by descending number of missing values\n",
    "missing_counts_sorted = missing_counts.sort_values(ascending=False)\n",
    "\n",
    "# Display the top columns with the most missing values (e.g., top 10)\n",
    "print(\"Columns with the highest number of missing values:\")\n",
    "print(missing_counts_sorted.head(10))\n"
   ]
  },
  {
   "cell_type": "markdown",
   "metadata": {},
   "source": [
    "<h5>5.2 Impute missing values in numerical columns (e.g., `ConvertedCompYearly`) with the mean or median.</h5>\n"
   ]
  },
  {
   "cell_type": "code",
   "execution_count": 10,
   "metadata": {},
   "outputs": [
    {
     "name": "stdout",
     "output_type": "stream",
     "text": [
      "   ConvertedCompYearly  ConvertedCompYearly_mean_imputed  \\\n",
      "0                  NaN                      86155.287263   \n",
      "1                  NaN                      86155.287263   \n",
      "2                  NaN                      86155.287263   \n",
      "3                  NaN                      86155.287263   \n",
      "4                  NaN                      86155.287263   \n",
      "5                  NaN                      86155.287263   \n",
      "6                  NaN                      86155.287263   \n",
      "7                  NaN                      86155.287263   \n",
      "8                  NaN                      86155.287263   \n",
      "9                  NaN                      86155.287263   \n",
      "\n",
      "   ConvertedCompYearly_median_imputed  \n",
      "0                             65000.0  \n",
      "1                             65000.0  \n",
      "2                             65000.0  \n",
      "3                             65000.0  \n",
      "4                             65000.0  \n",
      "5                             65000.0  \n",
      "6                             65000.0  \n",
      "7                             65000.0  \n",
      "8                             65000.0  \n",
      "9                             65000.0  \n"
     ]
    }
   ],
   "source": [
    "## Write your code here\n",
    "# Impute missing values in ConvertedCompYearly with mean\n",
    "mean_value = df['ConvertedCompYearly'].mean()\n",
    "df['ConvertedCompYearly_mean_imputed'] = df['ConvertedCompYearly'].fillna(mean_value)\n",
    "\n",
    "# Or impute missing values with median\n",
    "median_value = df['ConvertedCompYearly'].median()\n",
    "df['ConvertedCompYearly_median_imputed'] = df['ConvertedCompYearly'].fillna(median_value)\n",
    "\n",
    "# Check the result\n",
    "print(df[['ConvertedCompYearly', 'ConvertedCompYearly_mean_imputed', 'ConvertedCompYearly_median_imputed']].head(10))\n"
   ]
  },
  {
   "cell_type": "markdown",
   "metadata": {},
   "source": [
    "<h5>5.3 Impute missing values in categorical columns (e.g., `RemoteWork`) with the most frequent value.</h5>\n"
   ]
  },
  {
   "cell_type": "code",
   "execution_count": 11,
   "metadata": {},
   "outputs": [
    {
     "name": "stdout",
     "output_type": "stream",
     "text": [
      "  RemoteWork                    RemoteWork_imputed\n",
      "0     Remote                                Remote\n",
      "1     Remote                                Remote\n",
      "2     Remote                                Remote\n",
      "3        NaN  Hybrid (some remote, some in-person)\n",
      "4        NaN  Hybrid (some remote, some in-person)\n",
      "5        NaN  Hybrid (some remote, some in-person)\n",
      "6     Remote                                Remote\n",
      "7        NaN  Hybrid (some remote, some in-person)\n",
      "8  In-person                             In-person\n",
      "9     Remote                                Remote\n"
     ]
    }
   ],
   "source": [
    "## Write your code here\n",
    "# Find the most frequent value (mode) in RemoteWork\n",
    "mode_value = df['RemoteWork'].mode()[0]\n",
    "\n",
    "# Impute missing values with the mode\n",
    "df['RemoteWork_imputed'] = df['RemoteWork'].fillna(mode_value)\n",
    "\n",
    "# Verify\n",
    "print(df[['RemoteWork', 'RemoteWork_imputed']].head(10))\n"
   ]
  },
  {
   "cell_type": "markdown",
   "metadata": {},
   "source": [
    "### 6. Feature Scaling and Transformation\n"
   ]
  },
  {
   "cell_type": "markdown",
   "metadata": {},
   "source": [
    "<h5>6.1 Apply Min-Max Scaling to normalize the `ConvertedCompYearly` column.</h5>\n"
   ]
  },
  {
   "cell_type": "code",
   "execution_count": null,
   "metadata": {},
   "outputs": [],
   "source": [
    "## Write your code here"
   ]
  },
  {
   "cell_type": "markdown",
   "metadata": {},
   "source": [
    "<h5>6.2 Log-transform the ConvertedCompYearly column to reduce skewness.</h5>\n"
   ]
  },
  {
   "cell_type": "code",
   "execution_count": null,
   "metadata": {},
   "outputs": [],
   "source": [
    "## Write your code here"
   ]
  },
  {
   "cell_type": "markdown",
   "metadata": {},
   "source": [
    "### 7. Feature Engineering\n"
   ]
  },
  {
   "cell_type": "markdown",
   "metadata": {},
   "source": [
    "<h5>7.1 Create a new column `ExperienceLevel` based on the `YearsCodePro` column:</h5>\n"
   ]
  },
  {
   "cell_type": "code",
   "execution_count": null,
   "metadata": {},
   "outputs": [],
   "source": [
    "## Write your code here"
   ]
  },
  {
   "cell_type": "markdown",
   "metadata": {},
   "source": [
    "### Summary\n"
   ]
  },
  {
   "cell_type": "markdown",
   "metadata": {},
   "source": [
    "In this lab, you:\n",
    "\n",
    "- Explored the dataset to identify inconsistencies and missing values.\n",
    "\n",
    "- Encoded categorical variables for analysis.\n",
    "\n",
    "- Handled missing values using imputation techniques.\n",
    "\n",
    "- Normalized and transformed numerical data to prepare it for analysis.\n",
    "\n",
    "- Engineered a new feature to enhance data interpretation.\n"
   ]
  },
  {
   "cell_type": "markdown",
   "metadata": {},
   "source": [
    "Copyright © IBM Corporation. All rights reserved.\n"
   ]
  }
 ],
 "metadata": {
  "kernelspec": {
   "display_name": "Python 3 (ipykernel)",
   "language": "python",
   "name": "python3"
  },
  "language_info": {
   "codemirror_mode": {
    "name": "ipython",
    "version": 3
   },
   "file_extension": ".py",
   "mimetype": "text/x-python",
   "name": "python",
   "nbconvert_exporter": "python",
   "pygments_lexer": "ipython3",
   "version": "3.12.8"
  },
  "prev_pub_hash": "1e8e234f19fd098e27b0518a87f18de690e1c51f1d3263d5690927d19971251e"
 },
 "nbformat": 4,
 "nbformat_minor": 4
}
